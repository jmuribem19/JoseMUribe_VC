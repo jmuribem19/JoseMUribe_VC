{
  "nbformat": 4,
  "nbformat_minor": 0,
  "metadata": {
    "colab": {
      "provenance": []
    },
    "kernelspec": {
      "name": "python3",
      "display_name": "Python 3"
    },
    "language_info": {
      "name": "python"
    }
  },
  "cells": [
    {
      "cell_type": "code",
      "execution_count": null,
      "metadata": {
        "id": "DKHfq8OinkrY"
      },
      "outputs": [],
      "source": [
        "from google.colab.patches import cv2_imshow\n",
        "import numpy as np\n",
        "import cv2 as cv"
      ]
    },
    {
      "cell_type": "code",
      "source": [
        "def draw_triangle(im, triangle, color=(0,255,0)):\n",
        "    # Normalizar coordenadas homogeneas\n",
        "    triangle = np.array([ v[:-1]/v[-1] for v in triangle] , np.uint16)\n",
        "    cv.drawContours(im, [triangle.astype(int)], 0, color, -1)\n",
        "    for v in triangle:\n",
        "        cv.circle(im, tuple(v), 2, (255,0,255),-1)\n",
        "\n",
        "def scale(vertex, sx, sy):\n",
        "    pass\n",
        "\n",
        "def rotate(vertex, a):\n",
        "    pass\n",
        "\n",
        "def compuesta(vertex, dx, dy, sx, sy):\n",
        "    M = np.array([[sx,-sx,dx], [sy,sy,dy],[0,0,1]])\n",
        "    res = M @ vertex.T\n",
        "    return res.T\n",
        "\n",
        "def show_im(im):\n",
        "    cv2.imshow('window', im)\n",
        "    cv2.waitKey(0)\n",
        "    cv2.destroyAllWindows()\n",
        "\n",
        "\n",
        "# image size\n",
        "w = 500\n",
        "h = 500\n",
        "im = np.zeros((h,w,3), np.uint8)\n",
        "\n",
        "# Parametros de las transformaciones\n",
        "# Traslada a centro y realiza escala y rotacion\n",
        "Grados = int(input(\"Ingrese los grados: \"))\n",
        "s = -2\n",
        "t = 300\n",
        "\n",
        "#Grado radianes - la matriz funciona con eso\n",
        "angle = Grados*(3.1416/180)\n",
        "s = -2\n",
        "t = 300\n",
        "\n",
        "\n",
        "\n",
        "# Sistema coordenado de imagenes\n",
        "triangle1 = np.array( [[10,10,1], [70,10,1], [40, 60,1]])\n",
        "#triangle2 = translate(rotate( scale(translate(triangle1, -40,-30),s,s) ,angle), t,t)\n",
        "triangle2 = compuesta(triangle1, t, t, s, s)\n",
        "#triangle2 = rotate(triangle1, angle\n",
        "draw_triangle(im, triangle1)\n",
        "draw_triangle(im, triangle2)\n",
        "\n",
        "draw_triangle(im, triangle1)\n",
        "draw_triangle(im, triangle2, color= (0,100,255))\n",
        "\n",
        "cv2_imshow(im)"
      ],
      "metadata": {
        "colab": {
          "base_uri": "https://localhost:8080/",
          "height": 534
        },
        "id": "YayZ-Y_NsB1i",
        "outputId": "8eb8419a-cb91-4027-ace4-c4b9fccbb1b5"
      },
      "execution_count": null,
      "outputs": [
        {
          "name": "stdout",
          "output_type": "stream",
          "text": [
            "Ingrese los grados: 30\n"
          ]
        },
        {
          "output_type": "display_data",
          "data": {
            "text/plain": [
              "<PIL.Image.Image image mode=RGB size=500x500>"
            ],
            "image/png": "[encoded data removed]"
          },
          "metadata": {}
        }
      ]
    },
    {
      "cell_type": "code",
      "source": [],
      "metadata": {
        "id": "UCOV-KqTucvh"
      },
      "execution_count": null,
      "outputs": []
    }
  ]
}